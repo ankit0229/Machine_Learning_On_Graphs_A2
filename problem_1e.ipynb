{
 "cells": [
  {
   "cell_type": "code",
   "execution_count": 6,
   "metadata": {},
   "outputs": [],
   "source": [
    "import networkx\n",
    "import math\n",
    "import pickle\n",
    "from collections import Counter\n",
    "import matplotlib.pyplot as plt\n",
    "from collections import Counter"
   ]
  },
  {
   "cell_type": "code",
   "execution_count": 7,
   "metadata": {
    "scrolled": true
   },
   "outputs": [
    {
     "name": "stdout",
     "output_type": "stream",
     "text": [
      "average clustering coefficient for the network with 10^2 nodes = 0.15571707516871297\n",
      "average clustering coefficient for the network with 10^3 nodes = 0.03510776685383469\n",
      "average clustering coefficient for the network with 10^4 nodes = 0.00603521479577489\n"
     ]
    }
   ],
   "source": [
    "G1_100 = networkx.read_gpickle(\"G1_100\")\n",
    "G1_1000 = networkx.read_gpickle(\"G1_1000\")\n",
    "G1_10000 = networkx.read_gpickle(\"G1_10000\")\n",
    "avg_clust_100 = networkx.average_clustering(G1_100)\n",
    "avg_clust_1000 = networkx.average_clustering(G1_1000)\n",
    "avg_clust_10000 = networkx.average_clustering(G1_10000)\n",
    "print(f\"average clustering coefficient for the network with 10^2 nodes = {avg_clust_100}\")\n",
    "print(f\"average clustering coefficient for the network with 10^3 nodes = {avg_clust_1000}\")\n",
    "print(f\"average clustering coefficient for the network with 10^4 nodes = {avg_clust_10000}\")"
   ]
  }
 ],
 "metadata": {
  "kernelspec": {
   "display_name": "Python 3",
   "language": "python",
   "name": "python3"
  },
  "language_info": {
   "codemirror_mode": {
    "name": "ipython",
    "version": 3
   },
   "file_extension": ".py",
   "mimetype": "text/x-python",
   "name": "python",
   "nbconvert_exporter": "python",
   "pygments_lexer": "ipython3",
   "version": "3.7.3"
  }
 },
 "nbformat": 4,
 "nbformat_minor": 2
}
