{
 "cells": [
  {
   "cell_type": "code",
   "execution_count": 40,
   "metadata": {},
   "outputs": [],
   "source": [
    "list_all_x = []\n",
    "list_all_y = []"
   ]
  },
  {
   "cell_type": "code",
   "execution_count": 41,
   "metadata": {},
   "outputs": [],
   "source": [
    "import networkx\n",
    "import math\n",
    "import matplotlib.pyplot as plt\n",
    "from collections import Counter\n",
    "import pickle\n"
   ]
  },
  {
   "cell_type": "code",
   "execution_count": 42,
   "metadata": {},
   "outputs": [],
   "source": [
    "import networkx\n",
    "import random\n",
    "import pickle\n",
    "from tqdm import tqdm \n",
    "list_nodes_growth = [100,1000,5000]\n",
    "dict_growth = {100:[], 1000:[], 5000:[]}\n",
    "curr_time = 0\n",
    "dict_degrees = {}\n",
    "nodes_added = 0\n",
    "G1 = networkx.Graph()\n",
    "#Now making the initial fully connected network\n",
    "for m in range(1, 5):\n",
    "    G1.add_node(m)\n",
    "for i in range(1, 5):\n",
    "#     print(i)\n",
    "    nodes_added += 1\n",
    "    for j in range(i+1, 5):\n",
    "#         print(j)\n",
    "        G1.add_edge(i, j)\n",
    "        #When adding an edge i,j then updating the degrees of both nodes i and j\n",
    "        if dict_degrees.get(i) is None:\n",
    "            dict_degrees[i] = 1\n",
    "        else:\n",
    "            dict_degrees[i] = dict_degrees[i] + 1\n",
    "        if dict_degrees.get(j) is None:\n",
    "            dict_degrees[j] = 1\n",
    "        else:\n",
    "            dict_degrees[j] = dict_degrees[j] + 1\n",
    "# print(G1.edges())\n",
    "# print(G1.nodes())\n",
    "# # N_val = N_val - 4\n",
    "# print(dict_degrees)\n",
    "# print(nodes_added)"
   ]
  },
  {
   "cell_type": "code",
   "execution_count": 43,
   "metadata": {},
   "outputs": [
    {
     "name": "stderr",
     "output_type": "stream",
     "text": [
      "100%|██████████████████████████████████████████████████████████████████████████████| 9997/9997 [07:24<00:00, 14.16it/s]\n"
     ]
    }
   ],
   "source": [
    "incoming_node = 5\n",
    "nodes_added = 4\n",
    "for nodes_added in tqdm(range(4, 10001)):\n",
    "    curr_time += 1\n",
    "    G1.add_node(nodes_added)\n",
    "    if G1.number_of_nodes() == 100:\n",
    "        networkx.write_gpickle(G1, \"G1_100\")\n",
    "    if G1.number_of_nodes() == 1000:\n",
    "        networkx.write_gpickle(G1, \"G1_1000\")\n",
    "    if G1.number_of_nodes() == 10000:\n",
    "        networkx.write_gpickle(G1, \"G1_10000\")\n",
    "    \n",
    "    for li in range(1, 5):\n",
    "        list_nodes = G1.nodes()\n",
    "        list_edges = G1.edges()\n",
    "        #Calculating the probability values for the nodesin the graph\n",
    "        curr_node = 1\n",
    "        dict_probs = {}\n",
    "        list_probs = []\n",
    "        #Finding the sum of degrees of nodes of the graph\n",
    "        sum_degrees = 0\n",
    "        for kk in dict_degrees:\n",
    "            sum_degrees += dict_degrees[kk]\n",
    "        for curr_node in range(1, incoming_node):\n",
    "            prob_val = (dict_degrees[curr_node]) / (sum_degrees)\n",
    "            dict_probs[curr_node] = prob_val\n",
    "            pair = []\n",
    "            pair.append(curr_node)\n",
    "            pair.append(prob_val)\n",
    "            list_probs.append(pair)\n",
    "#         print(list_probs)\n",
    "        \n",
    "        list_probs.sort(key = lambda x:x[1])\n",
    "        list_roulette = []\n",
    "        list_roulette.append(0)\n",
    "        len_list_probs = len(list_probs)\n",
    "        cum_sum = 0\n",
    "        #Preparing the roulette wheel for selection according to probability distribution\n",
    "        for ab in range(len_list_probs - 1):\n",
    "            cum_sum += list_probs[ab][1]\n",
    "            list_roulette.append(cum_sum)\n",
    "        list_roulette.append(1.0)\n",
    "#         print(list_roulette)\n",
    "        #Now doing the roulette wheel selection\n",
    "        rand_prob = random.uniform(0, 1)\n",
    "#         print(rand_prob)\n",
    "        for abc in range(len(list_roulette) - 1):\n",
    "            if rand_prob > list_roulette[abc] and rand_prob <= list_roulette[abc+1]:\n",
    "                selected_node = list_probs[abc][0]\n",
    "#                 print(selected_node)\n",
    "                if G1.has_edge(selected_node, incoming_node):\n",
    "                    rand_prob = random.uniform(0, 1)\n",
    "                    continue\n",
    "                else:\n",
    "                    G1.add_edge(selected_node, incoming_node)\n",
    "                            \n",
    "                    dict_degrees[selected_node] += 1\n",
    "                    if dict_degrees.get(incoming_node) is None:\n",
    "                        dict_degrees[incoming_node] = 1\n",
    "                    else:\n",
    "                        dict_degrees[incoming_node] = dict_degrees[incoming_node] + 1\n",
    "                    break\n",
    "                    \n",
    "    #Finding the degrees at all times\n",
    "    if curr_time >= 100 and curr_time < 1000:\n",
    "        dict_growth[100].append(G1.degree(100))\n",
    "    elif curr_time >= 1000 and curr_time < 5000:\n",
    "        dict_growth[100].append(G1.degree(100))\n",
    "        dict_growth[1000].append(G1.degree(1000))\n",
    "    elif curr_time >= 5000 and curr_time <= 10000:\n",
    "        dict_growth[100].append(G1.degree(100))\n",
    "        dict_growth[1000].append(G1.degree(1000))\n",
    "        dict_growth[5000].append(G1.degree(5000))\n",
    "    incoming_node += 1\n"
   ]
  },
  {
   "cell_type": "code",
   "execution_count": 44,
   "metadata": {},
   "outputs": [
    {
     "name": "stdout",
     "output_type": "stream",
     "text": [
      "Pickle done\n"
     ]
    }
   ],
   "source": [
    "Picklefile1 = open('degrees_growth', 'wb')\n",
    "pickle.dump(dict_growth, Picklefile1)\n",
    "Picklefile1.close()\n",
    "print(\"Pickle done\")"
   ]
  }
 ],
 "metadata": {
  "kernelspec": {
   "display_name": "Python 3",
   "language": "python",
   "name": "python3"
  },
  "language_info": {
   "codemirror_mode": {
    "name": "ipython",
    "version": 3
   },
   "file_extension": ".py",
   "mimetype": "text/x-python",
   "name": "python",
   "nbconvert_exporter": "python",
   "pygments_lexer": "ipython3",
   "version": "3.7.3"
  }
 },
 "nbformat": 4,
 "nbformat_minor": 2
}
